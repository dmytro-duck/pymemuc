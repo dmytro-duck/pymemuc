{
 "cells": [
  {
   "cell_type": "code",
   "execution_count": 2,
   "metadata": {},
   "outputs": [
    {
     "name": "stdout",
     "output_type": "stream",
     "text": [
      "Command output :  b'0,MEmu,0,0,0,1529364920\\r\\n\\r\\n'\n"
     ]
    }
   ],
   "source": [
    "# list all install vms\n",
    "\n",
    "from memuc_wrapper import PyMemuc\n",
    "\n",
    "memuc = PyMemuc()\n",
    "memuc.list_vm_info(disk_info=True)\n"
   ]
  },
  {
   "cell_type": "code",
   "execution_count": 1,
   "metadata": {},
   "outputs": [
    {
     "name": "stdout",
     "output_type": "stream",
     "text": [
      "Command output :  b''\n"
     ]
    }
   ],
   "source": [
    "# get memuc version\n",
    "\n",
    "from memuc_wrapper import PyMemuc\n",
    "\n",
    "memuc = PyMemuc()\n",
    "memuc.get_version()"
   ]
  },
  {
   "cell_type": "code",
   "execution_count": 3,
   "metadata": {},
   "outputs": [
    {
     "name": "stdout",
     "output_type": "stream",
     "text": [
      "Command output :  b'Value: 6\\r\\r\\n'\n"
     ]
    }
   ],
   "source": [
    "# get vm configuation of vm 0\n",
    "\n",
    "from memuc_wrapper import PyMemuc\n",
    "\n",
    "memuc = PyMemuc()\n",
    "memuc.get_configuration_vm(\"cpus\", 0)"
   ]
  },
  {
   "cell_type": "code",
   "execution_count": 4,
   "metadata": {},
   "outputs": [
    {
     "name": "stdout",
     "output_type": "stream",
     "text": [
      "Command output :  b''\n"
     ]
    }
   ],
   "source": [
    "# install an apk\n",
    "\n",
    "from memuc_wrapper import PyMemuc\n",
    "\n",
    "memuc = PyMemuc()\n",
    "memuc.install_apk_vm(\"com.example.apk\", 0)"
   ]
  }
 ],
 "metadata": {
  "kernelspec": {
   "display_name": "Python 3.10.6 ('.venv': venv)",
   "language": "python",
   "name": "python3"
  },
  "language_info": {
   "codemirror_mode": {
    "name": "ipython",
    "version": 3
   },
   "file_extension": ".py",
   "mimetype": "text/x-python",
   "name": "python",
   "nbconvert_exporter": "python",
   "pygments_lexer": "ipython3",
   "version": "3.10.6"
  },
  "orig_nbformat": 4,
  "vscode": {
   "interpreter": {
    "hash": "54ad5e0c9648d2e9a74e18f1b070a837b9305b7c59f4ddf904c3bb66c985127a"
   }
  }
 },
 "nbformat": 4,
 "nbformat_minor": 2
}
